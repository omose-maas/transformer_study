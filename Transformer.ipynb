{
 "cells": [
  {
   "cell_type": "code",
   "execution_count": 2,
   "metadata": {},
   "outputs": [],
   "source": [
    "import tensorflow as tf"
   ]
  },
  {
   "cell_type": "markdown",
   "metadata": {},
   "source": [
    "- Tensorのshapeは、[batch_size, q_length, depth]になる\n",
    "\n",
    "batch_size：データ数\n",
    "\n",
    "q_length:queryののトークンの長さ（e.g 好き、な、動物、は = 4）\n",
    "\n",
    "depth：Embeddingした次元数"
   ]
  },
  {
   "cell_type": "code",
   "execution_count": 4,
   "metadata": {},
   "outputs": [],
   "source": [
    "class SimpleAttention(tf.keras.models.Model):\n",
    "    '''\n",
    "    Attentioonの説明をするための、Multi-headではない単純なAttention\n",
    "    '''\n",
    "    def __init__(self, depth: int, *args, **kwargs):\n",
    "        '''\n",
    "        コンストラクタ\n",
    "        :param depth: 隠れそう及び出力の次元\n",
    "        '''\n",
    "        super().__init__(*args, **kwargs)\n",
    "        self.depth = depth\n",
    "        \n",
    "        self.q_dense_layer = tf.keras.layers.Dense(depth, use_bias=False, name='q_dense_layer')\n",
    "        self.k_dense_layer = tf.keras.layers.Dense(depth, use_bias=False, name='d_dense_layer')\n",
    "        self.v_dense_layer = tf.keras.layers.Dense(depth, use_bias=False, name='v_dense_layer')\n",
    "        \n",
    "        self.output_dense_layer = tf.keras.layers.Dense(depth, use_bias=False, name='output_dense_layer')\n",
    "    \n",
    "    def call(self, input: tf.Tensor, memory: tf.Tensor, attention_mask: tf.Tensor) -> tf.Tensor:\n",
    "        '''\n",
    "        モデルの実行\n",
    "        :param input: queryのテンソル\n",
    "        :param memory: queryに情報を与えるmemoryのテンソル\n",
    "        :param attention_mask: attention weight に適用される mask\n",
    "        '''\n",
    "        q = self.q_dense_layer(input)  # [batch_size, q_length, depth]\n",
    "        k = self.k_dense_layer(memory)  # [batch_size, m_length, depth]\n",
    "        v = self.v_dense_layer(memory)\n",
    "        \n",
    "        q *= depth ** -0.5\n",
    "        \n",
    "        #ここでqとkの内積を取ることで、queryとkeyの関連度のようなものを計算する\n",
    "        logit = tf.matmul(q, k, transpose_b=True)  # [batch_size, q_length, k_length]\n",
    "        logit += tf.to_float(attention_mask) * input.dtype.min\n",
    "        \n",
    "        # softmaxを取ることで正規化します\n",
    "        attention_weight = tf.nn.softmax(logit, name='attention_weight')\n",
    "        \n",
    "        #重みに従ってvalueから情報を引いてくる\n",
    "        attention_output = tf.matmul(attention_weight, v)\n",
    "        return self.output_dense_layer(attention_output)\n",
    "        \n",
    "        "
   ]
  },
  {
   "cell_type": "markdown",
   "metadata": {},
   "source": [
    "## Attention の使い方\n",
    "1. Self Attention\n",
    "\n",
    "- セルフアテンションは、Itsが何を表してるかとかの照応関係をしめす\n",
    "- セルフアテンションは、エンコーダーでもデコーダーでも利用する\n",
    "\n",
    "2. SourceTarget-Attention\n",
    "\n",
    "- これは、inputとmemoryを別々のTensorで扱う。\n",
    "- デコーダーで利用される。\n",
    "- デコーダーは、時刻tでのトークンから、時刻t+1でのトークンを予測する\n",
    "\n",
    "対話では、 End-to-End Memory Networkも使えそう"
   ]
  },
  {
   "cell_type": "code",
   "execution_count": 5,
   "metadata": {},
   "outputs": [
    {
     "name": "stdout",
     "output_type": "stream",
     "text": [
      "WARNING:tensorflow:From /Users/hiroki/anaconda3/lib/python3.7/site-packages/tensorflow/python/ops/init_ops.py:1251: calling VarianceScaling.__init__ (from tensorflow.python.ops.init_ops) with dtype is deprecated and will be removed in a future version.\n",
      "Instructions for updating:\n",
      "Call initializer instance with the dtype argument instead of passing it to the constructor\n"
     ]
    }
   ],
   "source": [
    "attention_layer = SimpleAttention(depth=128)"
   ]
  },
  {
   "cell_type": "markdown",
   "metadata": {},
   "source": [
    "### 学習効率がうまくなる仕組み\n",
    "- Scaled Dot-Production\n",
    "\n",
    "softmaxに入る値が多いと、softmaxの勾配が0に近づいてしまう。\n",
    "\n",
    "その原因となるlogitは、行列積なのでdepthの次元数が大きいと大きくなってしまう。\n",
    "\n",
    "なので、depthの大きさに従って小さくなるようにする\n",
    "\n",
    "- Mask\n",
    "\n",
    "attetionのweightをゼロにするためのマスクをする\n",
    "\n",
    "PADやDecoderのセルフアテンションにおける未来を無視できるようにする仕組み\n",
    "\n",
    "## Multi-head Attention"
   ]
  },
  {
   "cell_type": "code",
   "execution_count": null,
   "metadata": {},
   "outputs": [],
   "source": []
  }
 ],
 "metadata": {
  "kernelspec": {
   "display_name": "Python 3",
   "language": "python",
   "name": "python3"
  },
  "language_info": {
   "codemirror_mode": {
    "name": "ipython",
    "version": 3
   },
   "file_extension": ".py",
   "mimetype": "text/x-python",
   "name": "python",
   "nbconvert_exporter": "python",
   "pygments_lexer": "ipython3",
   "version": "3.7.3"
  }
 },
 "nbformat": 4,
 "nbformat_minor": 2
}
