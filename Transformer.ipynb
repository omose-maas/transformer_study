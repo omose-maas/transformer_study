{
 "cells": [
  {
   "cell_type": "code",
   "execution_count": 3,
   "metadata": {},
   "outputs": [],
   "source": [
    "import tensorflow as tf"
   ]
  },
  {
   "cell_type": "markdown",
   "metadata": {},
   "source": [
    "- Tensorのshapeは、[batch_size, q_length, depth]になる\n",
    "\n",
    "batch_size：データ数\n",
    "\n",
    "q_length:queryののトークンの長さ（e.g 好き、な、動物、は = 4）\n",
    "\n",
    "depth：Embeddingした次元数"
   ]
  },
  {
   "cell_type": "code",
   "execution_count": 4,
   "metadata": {},
   "outputs": [],
   "source": [
    "class SimpleAttention(tf.keras.models.Model):\n",
    "    '''\n",
    "    Attentioonの説明をするための、Multi-headではない単純なAttention\n",
    "    '''\n",
    "    def __init__(self, depth: int, *args, **kwargs):\n",
    "        '''\n",
    "        コンストラクタ\n",
    "        :param depth: 隠れそう及び出力の次元\n",
    "        '''\n",
    "        super().__init__(*args, **kwargs)\n",
    "        self.depth = depth\n",
    "        \n",
    "        self.q_dense_layer = tf.keras.layers.Dense(depth, use_bias=False, name='q_dense_layer')\n",
    "        self.k_dense_layer = tf.keras.layers.Dense(depth, use_bias=False, name='d_dense_layer')\n",
    "        self.v_dense_layer = tf.keras.layers.Dense(depth, use_bias=False, name='v_dense_layer')\n",
    "        \n",
    "        self.output_dense_layer = tf.keras.layers.Dense(depth, use_bias=False, name='output_dense_layer')\n",
    "    \n",
    "    def call(self, input: tf.Tensor, memory: tf.Tensor, attention_mask: tf.Tensor) -> tf.Tensor:\n",
    "        '''\n",
    "        モデルの実行\n",
    "        :param input: queryのテンソル\n",
    "        :param memory: queryに情報を与えるmemoryのテンソル\n",
    "        :param attention_mask: attention weight に適用される mask\n",
    "        '''\n",
    "        q = self.q_dense_layer(input)  # [batch_size, q_length, depth]\n",
    "        k = self.k_dense_layer(memory)  # [batch_size, m_length, depth]\n",
    "        v = self.v_dense_layer(memory)\n",
    "        \n",
    "        q *= depth ** -0.5\n",
    "        \n",
    "        #ここでqとkの内積を取ることで、queryとkeyの関連度のようなものを計算する\n",
    "        logit = tf.matmul(q, k, transpose_b=True)  # [batch_size, q_length, k_length]\n",
    "        logit += tf.to_float(attention_mask) * input.dtype.min\n",
    "        \n",
    "        # softmaxを取ることで正規化します\n",
    "        attention_weight = tf.nn.softmax(logit, name='attention_weight')\n",
    "        \n",
    "        #重みに従ってvalueから情報を引いてくる\n",
    "        attention_output = tf.matmul(attention_weight, v)\n",
    "        return self.output_dense_layer(attention_output)\n",
    "        \n",
    "        "
   ]
  },
  {
   "cell_type": "markdown",
   "metadata": {},
   "source": [
    "## Attention の使い方\n",
    "1. Self Attention\n",
    "\n",
    "- セルフアテンションは、Itsが何を表してるかとかの照応関係をしめす\n",
    "- セルフアテンションは、エンコーダーでもデコーダーでも利用する\n",
    "\n",
    "2. SourceTarget-Attention\n",
    "\n",
    "- これは、inputとmemoryを別々のTensorで扱う。\n",
    "- デコーダーで利用される。\n",
    "- デコーダーは、時刻tでのトークンから、時刻t+1でのトークンを予測する\n",
    "\n",
    "対話では、 End-to-End Memory Networkも使えそう"
   ]
  },
  {
   "cell_type": "code",
   "execution_count": 5,
   "metadata": {},
   "outputs": [
    {
     "name": "stdout",
     "output_type": "stream",
     "text": [
      "WARNING:tensorflow:From /Users/hiroki/anaconda3/lib/python3.7/site-packages/tensorflow/python/ops/init_ops.py:1251: calling VarianceScaling.__init__ (from tensorflow.python.ops.init_ops) with dtype is deprecated and will be removed in a future version.\n",
      "Instructions for updating:\n",
      "Call initializer instance with the dtype argument instead of passing it to the constructor\n"
     ]
    }
   ],
   "source": [
    "attention_layer = SimpleAttention(depth=128)"
   ]
  },
  {
   "cell_type": "markdown",
   "metadata": {},
   "source": [
    "### 学習効率がうまくなる仕組み\n",
    "- Scaled Dot-Production\n",
    "\n",
    "softmaxに入る値が多いと、softmaxの勾配が0に近づいてしまう。\n",
    "\n",
    "その原因となるlogitは、行列積なのでdepthの次元数が大きいと大きくなってしまう。\n",
    "\n",
    "なので、depthの大きさに従って小さくなるようにする\n",
    "\n",
    "- Mask\n",
    "\n",
    "attetionのweightをゼロにするためのマスクをする\n",
    "\n",
    "PADやDecoderのセルフアテンションにおける未来を無視できるようにする仕組み\n",
    "\n",
    "## Multi-head Attention"
   ]
  },
  {
   "cell_type": "code",
   "execution_count": 1,
   "metadata": {},
   "outputs": [
    {
     "ename": "NameError",
     "evalue": "name 'tf' is not defined",
     "output_type": "error",
     "traceback": [
      "\u001b[0;31m---------------------------------------------------------------------------\u001b[0m",
      "\u001b[0;31mNameError\u001b[0m                                 Traceback (most recent call last)",
      "\u001b[0;32m<ipython-input-1-c472f7434e83>\u001b[0m in \u001b[0;36m<module>\u001b[0;34m\u001b[0m\n\u001b[0;32m----> 1\u001b[0;31m \u001b[0;32mclass\u001b[0m \u001b[0mMultiheadAttention\u001b[0m\u001b[0;34m(\u001b[0m\u001b[0mtf\u001b[0m\u001b[0;34m.\u001b[0m\u001b[0mkeras\u001b[0m\u001b[0;34m.\u001b[0m\u001b[0mmodels\u001b[0m\u001b[0;34m.\u001b[0m\u001b[0mModel\u001b[0m\u001b[0;34m)\u001b[0m\u001b[0;34m:\u001b[0m\u001b[0;34m\u001b[0m\u001b[0;34m\u001b[0m\u001b[0m\n\u001b[0m\u001b[1;32m      2\u001b[0m     \"\"\"\n\u001b[1;32m      3\u001b[0m     \u001b[0mMulti\u001b[0m\u001b[0;34m-\u001b[0m\u001b[0mhead\u001b[0m \u001b[0mAttentionのモデルです\u001b[0m\u001b[0;31m。\u001b[0m\u001b[0;34m\u001b[0m\u001b[0;34m\u001b[0m\u001b[0m\n\u001b[1;32m      4\u001b[0m     model = MultiheadAttention(\n\u001b[1;32m      5\u001b[0m         \u001b[0mhidden_dim\u001b[0m \u001b[0;34m=\u001b[0m \u001b[0;36m512\u001b[0m\u001b[0;34m,\u001b[0m\u001b[0;34m\u001b[0m\u001b[0;34m\u001b[0m\u001b[0m\n",
      "\u001b[0;31mNameError\u001b[0m: name 'tf' is not defined"
     ]
    }
   ],
   "source": [
    "class MultiheadAttention(tf.keras.models.Model):\n",
    "    \"\"\"\n",
    "    Multi-head Attentionのモデルです。\n",
    "    model = MultiheadAttention(\n",
    "        hidden_dim = 512,\n",
    "        head_num = 8,\n",
    "        dropout_rate = 0.1,\n",
    "    )\n",
    "    model(query, memory, mask, training = True)\n",
    "    \"\"\"\n",
    "    \n",
    "    def __init__(self, hidden_dim: int, head_num: int, dropout_rate: float, *args, **kwargs):\n",
    "        \"\"\"\n",
    "        コンストラクタです。\n",
    "        :param hidden_num: 隠れ層及び出力の次元\n",
    "            head_numの倍数である必要がある\n",
    "        :param head_num: ヘッドの数\n",
    "        :param dropout_rate: ドロップアウトする確率\n",
    "        \"\"\"\n",
    "        \n",
    "        super.__init__(*args, **kwargs)\n",
    "        self.hidden_dim = hidden_dim\n",
    "        self.head_num = head_num\n",
    "        self.dropout_rate = dropout_rate\n",
    "        \n",
    "        self.q_dense_layer = tf.keras.layers.Dense(hidden_dim, use_bias=False, name='q_dense_layer')\n",
    "        self.k_dense_layer = tf.keras.layers.Dense(hidden_dim, use_bias=False, name='d_dense_layer')\n",
    "        self.v_dense_layer = tf.keras.layers.Dense(hidden_dim, use_bias=False, name='v_dense_layer')\n",
    "        \n",
    "        self.output_dense_layer = tf.keras.layers.Dense(hidden_dim, use_bias=False, name='output_dense_layer')\n",
    "        self.attention_dropout_layer =  tf.keras.layers.Dropout(dropout_rate)\n",
    "        \n",
    "        def call(\n",
    "                self,\n",
    "                input: tf.Tensor,\n",
    "                memory: tf.Tensor,\n",
    "                attention_mask: tf.Tensor,\n",
    "                training: bool,\n",
    "        ) -> tf.Tensor:\n",
    "            \"\"\"\n",
    "            モデルの実行を行います。\n",
    "            :param input: queryのテンソル\n",
    "            :param memory: queryに情報を与えるmemoryのテンソル\n",
    "            :param attention_mask: attention weightに適用されるマスク\n",
    "                shape = [batch_size, 1, q_length, k_length]\n",
    "                pad 等無視する部分がTrueとなるようなものを指定してください。\n",
    "            :param training: 学習時か推論時かのフラグ\n",
    "            \"\"\"\n",
    "            \n",
    "            q = self.q_dense_layer(input)  # [batch_size, q_length, hidden_dim]\n",
    "            k = self.k_dense_layer(memory)   # [batch_size, m_length, hidden_dim]\n",
    "            v = self.v_dense_layer(memory)\n",
    "            \n",
    "            q = self._split_head(q)  # [batch_size, head_num, q_length, hidden_dim/head_num]\n",
    "            k = self._split_head(k)  # [batch_size, head_num, m_length, hidden_dim/head_num]\n",
    "            v = self._split_head(v)  # [batch_size, head_num, m_length, hidden_dim/head_num]\n",
    "\n",
    "            depth = self.hidden_dim // self.head_num\n",
    "            q *= depth ** -0.5  # for scaled dot production\n",
    "            \n",
    "            # ここで q と k の内積を取ることで、query と key の関連度のようなものを計算します。\n",
    "            logit = tf.matmul(q, k, transpose_b=True)  # [batch_size, head_num, q_length, k_length]\n",
    "            logit += tf.to_float(attention_mask) * input.dtype.min  # mask は pad 部分などが1, 他は0\n",
    "            \n",
    "            # softmax を取ることで正規化します\n",
    "            attention_weight = tf.nn.softmax(logit, name='attention_weight')\n",
    "            attention_weight = self.attention_dropout_layer(attention_weight, training=training)\n",
    "        \n",
    "            # 重みに従って value から情報を引いてきます\n",
    "            attention_output = tf.matmul(attention_weight, v)  # [batch_size, head_num, q_length, hidden_dim/head_num]\n",
    "            attention_output = self._combine_head(attention_output)  # [batch_size, q_length, hidden_dim]\n",
    "            return self.output_dense_layer(attention_output)\n",
    "        \n",
    "        def _spliit_head(self, x: tf.Tensor) -> tf.Tensor:\n",
    "            \"\"\"\n",
    "            入力のtensorのhidden_dimの次元をいくつかのヘッドに分割します。\n",
    "            入力 shape: [batch_size, length, hidden_dim] の時\n",
    "            出力 shape: [batch_size, head_num, length, hidden_dim//head_num]\n",
    "            となります。\n",
    "            \"\"\"\n",
    "            \n",
    "            with tf.name_scope('split_head'):\n",
    "                batch_size, lenght, hidden_dim = tf.unstack(tf.shape(x))\n",
    "                x = tf.reshape(x, [batch_size, length, self.head_num, self.hidden_dim // self.head_num])\n",
    "                return tf.transpoose(x, [0, 2, 1, 3])\n",
    "            \n",
    "        def _combine_head(self, x: tf.Tensor) -> tf.Tensor:\n",
    "            \"\"\"\n",
    "            入力の tensor の各ヘッドを結合します。 _split_head の逆変換です。\n",
    "            入力 shape: [batch_size, head_num, length, hidden_dim//head_num] の時\n",
    "            出力 shape: [batch_size, length, hidden_dim]\n",
    "            となります。\n",
    "            \"\"\"\n",
    "            with tf.name_scope('combine_head'):\n",
    "                batch_size, _, length, _ = tf.unstack(tf.shape(x))\n",
    "                x = tf.transpose(x, [0, 2, 1, 3])\n",
    "                return tf.reshape(x, [batch_size, length, self.hidden_dim])\n",
    "            \n",
    "            \n",
    "            \n",
    "        "
   ]
  },
  {
   "cell_type": "code",
   "execution_count": 2,
   "metadata": {},
   "outputs": [
    {
     "ename": "NameError",
     "evalue": "name 'MultiheadAttention' is not defined",
     "output_type": "error",
     "traceback": [
      "\u001b[0;31m---------------------------------------------------------------------------\u001b[0m",
      "\u001b[0;31mNameError\u001b[0m                                 Traceback (most recent call last)",
      "\u001b[0;32m<ipython-input-2-8740fd2ad046>\u001b[0m in \u001b[0;36m<module>\u001b[0;34m\u001b[0m\n\u001b[0;32m----> 1\u001b[0;31m \u001b[0;32mclass\u001b[0m \u001b[0mSelfAttention\u001b[0m\u001b[0;34m(\u001b[0m\u001b[0mMultiheadAttention\u001b[0m\u001b[0;34m)\u001b[0m\u001b[0;34m:\u001b[0m\u001b[0;34m\u001b[0m\u001b[0;34m\u001b[0m\u001b[0m\n\u001b[0m\u001b[1;32m      2\u001b[0m     def call(  # type: ignore\n\u001b[1;32m      3\u001b[0m             \u001b[0mself\u001b[0m\u001b[0;34m,\u001b[0m\u001b[0;34m\u001b[0m\u001b[0;34m\u001b[0m\u001b[0m\n\u001b[1;32m      4\u001b[0m             \u001b[0minput\u001b[0m\u001b[0;34m:\u001b[0m \u001b[0mtf\u001b[0m\u001b[0;34m.\u001b[0m\u001b[0mTensor\u001b[0m\u001b[0;34m,\u001b[0m\u001b[0;34m\u001b[0m\u001b[0;34m\u001b[0m\u001b[0m\n\u001b[1;32m      5\u001b[0m             \u001b[0mattention_mask\u001b[0m\u001b[0;34m:\u001b[0m \u001b[0mtf\u001b[0m\u001b[0;34m.\u001b[0m\u001b[0mTensor\u001b[0m\u001b[0;34m,\u001b[0m\u001b[0;34m\u001b[0m\u001b[0;34m\u001b[0m\u001b[0m\n",
      "\u001b[0;31mNameError\u001b[0m: name 'MultiheadAttention' is not defined"
     ]
    }
   ],
   "source": [
    "class SelfAttention(MultiheadAttention):\n",
    "    def call(  # type: ignore\n",
    "            self,\n",
    "            input: tf.Tensor,\n",
    "            attention_mask: tf.Tensor,\n",
    "            training: bool,\n",
    "    ) -> tf.Tensor:\n",
    "        return super().call(\n",
    "            input=input,\n",
    "            memory=input,\n",
    "            attention_mask=attention_mask,\n",
    "            training=training,\n",
    "        )"
   ]
  },
  {
   "cell_type": "code",
   "execution_count": null,
   "metadata": {},
   "outputs": [],
   "source": []
  }
 ],
 "metadata": {
  "kernelspec": {
   "display_name": "Python 3",
   "language": "python",
   "name": "python3"
  },
  "language_info": {
   "codemirror_mode": {
    "name": "ipython",
    "version": 3
   },
   "file_extension": ".py",
   "mimetype": "text/x-python",
   "name": "python",
   "nbconvert_exporter": "python",
   "pygments_lexer": "ipython3",
   "version": "3.7.3"
  }
 },
 "nbformat": 4,
 "nbformat_minor": 2
}
